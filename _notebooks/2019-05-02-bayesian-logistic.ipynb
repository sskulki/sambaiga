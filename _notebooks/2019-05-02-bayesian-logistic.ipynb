{
 "cells": [
  {
   "cell_type": "markdown",
   "metadata": {},
   "source": [
    "# Bayesian Regression\n",
    "> \n",
    "- toc: true \n",
    "- badges: true\n",
    "- comments: true\n",
    "- categories: [jupyter]\n",
    "- image: images/svi.jpg\n"
   ]
  },
  {
   "cell_type": "markdown",
   "metadata": {},
   "source": [
    "Consider a binary regression problem where we are intrested on predicting whether or not a customer will subscribe a term deposit after the marketing campaign the bank performed."
   ]
  },
  {
   "cell_type": "code",
   "execution_count": 1,
   "metadata": {},
   "outputs": [],
   "source": [
    "import pyro\n",
    "import pyro.distributions as dist\n",
    "import pyro.optim as optim\n",
    "import torch\n",
    "import torch.nn.functional as F\n",
    "from pyro.infer import Trace_ELBO, SVI\n",
    "import pandas as pd\n",
    "import numpy as np\n",
    "import matplotlib.pyplot as plt\n",
    "from sklearn.preprocessing import StandardScaler, OneHotEncoder, LabelEncoder, LabelBinarizer\n",
    "from sklearn.model_selection import StratifiedShuffleSplit\n",
    "%matplotlib inline\n",
    "import warnings\n",
    "warnings.filterwarnings('ignore')"
   ]
  },
  {
   "cell_type": "code",
   "execution_count": 2,
   "metadata": {},
   "outputs": [],
   "source": [
    "def label_binarize(df):\n",
    "    bin_enc = LabelBinarizer()\n",
    "    return bin_enc.fit_transform(df)\n",
    "\n",
    "def standardize(df):\n",
    "    std_enc = StandardScaler()\n",
    "    return std_enc.fit_transform(df)"
   ]
  },
  {
   "cell_type": "markdown",
   "metadata": {},
   "source": [
    "### Load data"
   ]
  },
  {
   "cell_type": "code",
   "execution_count": 3,
   "metadata": {},
   "outputs": [],
   "source": [
    "data = pd.read_csv(\"data/bank.csv\")\n",
    "\n",
    "## Encode target variable\n",
    "LE=LabelEncoder()\n",
    "target=LE.fit_transform(data.deposit.values)\n",
    "features = data.drop(columns=\"deposit\")\n",
    "\n",
    "# Separate both dataframes into \n",
    "numeric_data = data.select_dtypes(exclude=\"object\")\n",
    "categ_data  = data.drop(columns=numeric_data)\n",
    "#categ_data = pd.get_dummies(categ_data.values)"
   ]
  },
  {
   "cell_type": "code",
   "execution_count": 4,
   "metadata": {},
   "outputs": [],
   "source": [
    "for column in categ_data.columns:\n",
    "    categ_data[column] = label_binarize(categ_data[column].values)\n",
    "    \n",
    "columns_int = [\"campaign\", \"pdays\", \"previous\"]\n",
    "for i, column  in enumerate(columns_int):\n",
    "    numeric_data[column] = label_binarize(numeric_data[column].values)\n",
    "    \n",
    "    \n",
    "numeric_column = [\"age\", \"balance\", \"day\", \"duration\"]\n",
    "for i, column  in enumerate(numeric_column):\n",
    "    numeric_data[column] = standardize(numeric_data[[column]].values)\n",
    "    \n"
   ]
  },
  {
   "cell_type": "code",
   "execution_count": 5,
   "metadata": {},
   "outputs": [],
   "source": [
    "features = pd.concat([numeric_data, categ_data], 1)\n",
    "features = torch.tensor(features.values).float()\n",
    "target   = torch.tensor(target).long()"
   ]
  },
  {
   "cell_type": "code",
   "execution_count": 6,
   "metadata": {},
   "outputs": [],
   "source": [
    "sss = StratifiedShuffleSplit(n_splits=10, test_size=0.15, random_state=0)\n",
    "train, test = next(sss.split(features.numpy(), target.numpy()))"
   ]
  },
  {
   "cell_type": "code",
   "execution_count": 7,
   "metadata": {},
   "outputs": [],
   "source": [
    "X_train, X_test = features[train], features[test]\n",
    "y_train, y_test = target[train], target[test]"
   ]
  },
  {
   "cell_type": "markdown",
   "metadata": {},
   "source": [
    "## Model"
   ]
  },
  {
   "cell_type": "code",
   "execution_count": 8,
   "metadata": {},
   "outputs": [],
   "source": [
    "from pyro.nn import PyroSample\n",
    "from torch import nn\n",
    "from pyro.nn import PyroModule\n",
    "assert issubclass(PyroModule[nn.Linear], nn.Linear)\n",
    "assert issubclass(PyroModule[nn.Linear], PyroModule)\n",
    "\n",
    "class BayesianRegression(PyroModule):\n",
    "    def __init__(self, in_features, out_features=1):\n",
    "        super().__init__()\n",
    "        self.linear = PyroModule[nn.Linear](in_features, out_features)\n",
    "        self.linear.weight = PyroSample(dist.Normal(0., 1.).expand([out_features, in_features]).to_event(2))\n",
    "        self.linear.bias = PyroSample(dist.Normal(0., 10.).expand([out_features]).to_event(1))\n",
    "\n",
    "    def forward(self, x, y=None):\n",
    "        sigma = pyro.sample(\"sigma\", dist.Uniform(0., 10.))\n",
    "        mean = torch.sigmoid(self.linear(x).squeeze(-1))\n",
    "        with pyro.plate(\"data\", x.shape[0]):\n",
    "            obs = pyro.sample(\"obs\", dist.Bernoulli(mean), obs=y)\n",
    "        return mean"
   ]
  },
  {
   "cell_type": "markdown",
   "metadata": {},
   "source": [
    "### Guide"
   ]
  },
  {
   "cell_type": "code",
   "execution_count": 9,
   "metadata": {},
   "outputs": [],
   "source": [
    "from pyro.infer.autoguide import AutoDiagonalNormal\n",
    "\n",
    "model = BayesianRegression(features.size(-1), 1)\n",
    "guide = AutoDiagonalNormal(model)\n"
   ]
  },
  {
   "cell_type": "code",
   "execution_count": 10,
   "metadata": {},
   "outputs": [],
   "source": [
    "from pyro.infer import SVI, Trace_ELBO\n",
    "\n",
    "\n",
    "adam = pyro.optim.Adam({\"lr\": 0.03})\n",
    "svi = SVI(model, guide, adam, loss=Trace_ELBO())"
   ]
  },
  {
   "cell_type": "code",
   "execution_count": 11,
   "metadata": {},
   "outputs": [
    {
     "name": "stdout",
     "output_type": "stream",
     "text": [
      "[iteration 0001] loss: 2.5517\n",
      "[iteration 0101] loss: 0.2323\n",
      "[iteration 0201] loss: 0.1161\n",
      "[iteration 0301] loss: 0.0744\n",
      "[iteration 0401] loss: 0.0537\n",
      "[iteration 0501] loss: 0.0425\n",
      "[iteration 0601] loss: 0.0330\n",
      "[iteration 0701] loss: 0.0286\n",
      "[iteration 0801] loss: 0.0265\n",
      "[iteration 0901] loss: 0.0241\n",
      "[iteration 1001] loss: 0.0206\n",
      "[iteration 1101] loss: 0.0207\n",
      "[iteration 1201] loss: 0.0192\n",
      "[iteration 1301] loss: 0.0185\n",
      "[iteration 1401] loss: 0.0178\n",
      "[iteration 1501] loss: 0.0172\n",
      "[iteration 1601] loss: 0.0162\n",
      "[iteration 1701] loss: 0.0166\n",
      "[iteration 1801] loss: 0.0161\n",
      "[iteration 1901] loss: 0.0152\n",
      "[iteration 2001] loss: 0.0155\n",
      "[iteration 2101] loss: 0.0147\n",
      "[iteration 2201] loss: 0.0150\n",
      "[iteration 2301] loss: 0.0142\n",
      "[iteration 2401] loss: 0.0145\n",
      "[iteration 2501] loss: 0.0143\n",
      "[iteration 2601] loss: 0.0145\n",
      "[iteration 2701] loss: 0.0135\n",
      "[iteration 2801] loss: 0.0136\n",
      "[iteration 2901] loss: 0.0136\n",
      "[iteration 3001] loss: 0.0141\n",
      "[iteration 3101] loss: 0.0129\n",
      "[iteration 3201] loss: 0.0131\n",
      "[iteration 3301] loss: 0.0132\n",
      "[iteration 3401] loss: 0.0135\n",
      "[iteration 3501] loss: 0.0126\n",
      "[iteration 3601] loss: 0.0135\n",
      "[iteration 3701] loss: 0.0124\n",
      "[iteration 3801] loss: 0.0122\n",
      "[iteration 3901] loss: 0.0126\n",
      "[iteration 4001] loss: 0.0123\n",
      "[iteration 4101] loss: 0.0125\n",
      "[iteration 4201] loss: 0.0123\n",
      "[iteration 4301] loss: 0.0119\n",
      "[iteration 4401] loss: 0.0125\n",
      "[iteration 4501] loss: 0.0119\n",
      "[iteration 4601] loss: 0.0123\n",
      "[iteration 4701] loss: 0.0127\n",
      "[iteration 4801] loss: 0.0123\n",
      "[iteration 4901] loss: 0.0123\n"
     ]
    }
   ],
   "source": [
    "for j in range(5000):\n",
    "    # calculate the loss and take a gradient step\n",
    "    loss = svi.step(X_train, y_train.float())\n",
    "    if j % 100 == 0:\n",
    "        print(\"[iteration %04d] loss: %.4f\" % (j + 1, loss / len(X_train)))"
   ]
  },
  {
   "cell_type": "code",
   "execution_count": 43,
   "metadata": {},
   "outputs": [
    {
     "name": "stdout",
     "output_type": "stream",
     "text": [
      "w_loc tensor([-0.0071,  0.0229, -0.0480,  0.8757,  0.0749, -0.9454, -0.9454,  0.0240,\n",
      "        -0.1021, -0.3675, -0.1923, -0.9378, -0.4416, -0.0203,  0.2147, -1.3860,\n",
      "         6.3369], requires_grad=True)\n",
      "w_scale tensor([-1.9725, -2.2263, -1.8859, -1.4443, -1.4062, -1.3978, -1.3952, -1.3166,\n",
      "        -1.2706, -1.2814, -0.7051, -1.3490, -1.2376, -1.4575, -1.2055, -1.3631,\n",
      "        -0.8033], requires_grad=True)\n",
      "b_loc tensor(-0.9499, requires_grad=True)\n",
      "b_scale tensor(-1.4293, requires_grad=True)\n",
      "sigma_loc tensor(0.4712, requires_grad=True)\n",
      "sigma_scale tensor(1.0128, requires_grad=True)\n",
      "AutoDiagonalNormal.loc Parameter containing:\n",
      "tensor([ 2.0622e-01, -3.7485e-03, -3.0043e-02, -8.0583e-02,  6.4904e-01,\n",
      "         1.8374e-01, -3.6323e-01, -3.5512e-01, -2.5773e-02,  5.6965e-02,\n",
      "        -1.7738e-01,  4.0707e-02, -5.3365e-01, -2.6170e-01,  3.2216e-01,\n",
      "         4.4906e-02, -2.5154e-01,  1.2037e+01, -5.6873e+00])\n",
      "AutoDiagonalNormal.scale tensor([1.8662, 0.1736, 0.1103, 0.1989, 0.2169, 0.2756, 0.2084, 0.2840, 0.4834,\n",
      "        0.5076, 0.3287, 0.8293, 0.2835, 0.3674, 0.2236, 0.5573, 0.4754, 0.2786,\n",
      "        0.2006])\n"
     ]
    }
   ],
   "source": [
    "guide.requires_grad_(False)\n",
    "\n",
    "for name, value in pyro.get_param_store().items():\n",
    "    print(name, pyro.param(name))"
   ]
  },
  {
   "cell_type": "code",
   "execution_count": 12,
   "metadata": {},
   "outputs": [
    {
     "data": {
      "text/plain": [
       "{'sigma': [tensor(2.6640, grad_fn=<AddBackward0>),\n",
       "  tensor(5.1130, grad_fn=<AddBackward0>),\n",
       "  tensor(7.5088, grad_fn=<AddBackward0>)],\n",
       " 'linear.weight': [tensor([[-0.1639, -0.0724, -0.1268,  0.5418, -0.1031, -0.8266, -0.8063, -0.3514,\n",
       "           -0.3640, -0.5699, -0.6837, -0.8097, -0.5691, -0.2390, -0.1894, -0.9103,\n",
       "           11.7423]], grad_fn=<ViewBackward>),\n",
       "  tensor([[-3.0203e-02,  9.4208e-03, -1.1705e-02,  6.6436e-01,  1.0644e-01,\n",
       "           -6.6798e-01, -6.3090e-01, -1.4548e-02, -1.4773e-03, -2.6955e-01,\n",
       "           -1.1549e-01, -6.2662e-01, -2.8048e-01, -8.6887e-02,  1.1106e-01,\n",
       "           -6.1579e-01,  1.1925e+01]], grad_fn=<ViewBackward>),\n",
       "  tensor([[ 1.0347e-01,  9.1200e-02,  1.0336e-01,  7.8690e-01,  3.1602e-01,\n",
       "           -5.0940e-01, -4.5552e-01,  3.2231e-01,  3.6107e-01,  3.0746e-02,\n",
       "            4.5273e-01, -4.4355e-01,  8.1125e-03,  6.5219e-02,  4.1150e-01,\n",
       "           -3.2128e-01,  1.2108e+01]], grad_fn=<ViewBackward>)],\n",
       " 'linear.bias': [tensor([-4.5520], grad_fn=<ViewBackward>),\n",
       "  tensor([-4.4268], grad_fn=<ViewBackward>),\n",
       "  tensor([-4.3015], grad_fn=<ViewBackward>)]}"
      ]
     },
     "execution_count": 12,
     "metadata": {},
     "output_type": "execute_result"
    }
   ],
   "source": [
    "guide.quantiles([0.25, 0.5, 0.75])"
   ]
  },
  {
   "cell_type": "code",
   "execution_count": 15,
   "metadata": {},
   "outputs": [],
   "source": [
    "from pyro.infer import Predictive\n",
    "\n",
    "\n",
    "def summary(samples):\n",
    "    site_stats = {}\n",
    "    for k, v in samples.items():\n",
    "        site_stats[k] = {\n",
    "            \"mean\": torch.mean(v, 0),\n",
    "            \"std\": torch.std(v, 0),\n",
    "            \"5%\": v.kthvalue(int(len(v) * 0.05), dim=0)[0],\n",
    "            \"95%\": v.kthvalue(int(len(v) * 0.95), dim=0)[0],\n",
    "        }\n",
    "    return site_stats\n",
    "\n",
    "predictive = Predictive(model, guide=guide, num_samples=800,\n",
    "                        return_sites=(\"linear.weight\", \"obs\", \"_RETURN\"))\n",
    "samples = predictive(X_test)\n",
    "pred_summary = summary(samples)"
   ]
  },
  {
   "cell_type": "code",
   "execution_count": 17,
   "metadata": {},
   "outputs": [],
   "source": [
    "mu = pred_summary[\"_RETURN\"]\n",
    "y = pred_summary[\"obs\"]\n"
   ]
  },
  {
   "cell_type": "code",
   "execution_count": 20,
   "metadata": {},
   "outputs": [
    {
     "data": {
      "text/plain": [
       "(array([880.,   0.,   0.,   0.,   0.,   1.,   0.,   0.,   0., 794.]),\n",
       " array([0. , 0.1, 0.2, 0.3, 0.4, 0.5, 0.6, 0.7, 0.8, 0.9, 1. ],\n",
       "       dtype=float32),\n",
       " <a list of 10 Patch objects>)"
      ]
     },
     "execution_count": 20,
     "metadata": {},
     "output_type": "execute_result"
    },
    {
     "data": {
      "image/png": "[encoded data removed]",
      "text/plain": [
       "<Figure size 432x288 with 1 Axes>"
      ]
     },
     "metadata": {
      "needs_background": "light"
     },
     "output_type": "display_data"
    }
   ],
   "source": [
    "plt.hist(y['mean'])"
   ]
  },
  {
   "cell_type": "code",
   "execution_count": 58,
   "metadata": {},
   "outputs": [
    {
     "data": {
      "text/plain": [
       "[<matplotlib.lines.Line2D at 0x1a28bc04d0>]"
      ]
     },
     "execution_count": 58,
     "metadata": {},
     "output_type": "execute_result"
    },
    {
     "data": {
      "image/png": "[encoded data removed]",
      "text/plain": [
       "<Figure size 432x288 with 1 Axes>"
      ]
     },
     "metadata": {
      "needs_background": "light"
     },
     "output_type": "display_data"
    }
   ],
   "source": [
    "plt.plot(y['mean'], y_test)"
   ]
  },
  {
   "cell_type": "code",
   "execution_count": null,
   "metadata": {},
   "outputs": [],
   "source": [
    "## Reference\n",
    "\n",
    "1. [[Cheng Zhang,(2017)]](https://arxiv.org/abs/1711.05597):\n",
    "Advances in Variational Inference.\n",
    "2. [[Daniel Ritchie,(2016)]](https://arxiv.org/abs/1610.05735):Deep Amortized Inference for Probabilistic Programs.\n",
    "3. [[Andrew Miller,(2016)]](https://arxiv.org/abs/1610.05735):Natural Gradients and Stochastic Variational Inference.\n",
    "4.  [Shakir Mohamed](https://www.shakirm.com/papers/VITutorial.pdf):Variational Inference  for Machine Learning. \n",
    "5.  [DS3 workshop](https://emtiyaz.github.io/teaching/ds3_2018/ds3.html):Approximate Bayesian Inference: Old and New.\n",
    "6.  [Variational Inference and Deep Generative Models](https://github.com/philschulz/VITutorial):Variational Inference for NLP audiences\n"
   ]
  }
 ],
 "metadata": {
  "kernelspec": {
   "display_name": "Python 3",
   "language": "python",
   "name": "python3"
  },
  "language_info": {
   "codemirror_mode": {
    "name": "ipython",
    "version": 3
   },
   "file_extension": ".py",
   "mimetype": "text/x-python",
   "name": "python",
   "nbconvert_exporter": "python",
   "pygments_lexer": "ipython3",
   "version": "3.7.4"
  },
  "latex_envs": {
   "LaTeX_envs_menu_present": true,
   "autoclose": false,
   "autocomplete": true,
   "bibliofile": "biblio.bib",
   "cite_by": "apalike",
   "current_citInitial": 1,
   "eqLabelWithNumbers": true,
   "eqNumInitial": 1,
   "hotkeys": {
    "equation": "Ctrl-E",
    "itemize": "Ctrl-I"
   },
   "labels_anchors": false,
   "latex_user_defs": false,
   "report_style_numbering": false,
   "user_envs_cfg": false
  }
 },
 "nbformat": 4,
 "nbformat_minor": 4
}
