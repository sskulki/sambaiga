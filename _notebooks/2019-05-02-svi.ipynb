{
 "cells": [
  {
   "cell_type": "markdown",
   "metadata": {},
   "source": [
    "# Stochastic Variational Inference (SVI)\n",
    "> This post introduce  stochastic gradient based algorithm (SVI) used in practise to do variational inference under mean filed assumptions. It also present two important tricks namely re-parametrization trick and amortized inference that are useful when using SVI in solving problems.\n",
    "- toc: true \n",
    "- badges: true\n",
    "- comments: true\n",
    "- categories: [jupyter]\n",
    "- image: images/svi.jpg\n"
   ]
  },
  {
   "cell_type": "markdown",
   "metadata": {},
   "source": [
    "The [previous post]()  introduced the basic principle of Variational Inference (VI) as one of the approach used to approximate difficult probability distribution, derived the ELBO function and discussed about Mean Field Variational Inference (MFVI) and the Coordinate Ascent Variational Inference (CAVI) algorithms. This post introduce another  stochastic gradient based algorithm (SVI) used in practise to do VI under mean filed assumptions. It also present two important tricks re-parametrization trick and amortized inference that are useful when using SVI in solving problems.\n",
    "\n",
    "## Stochastic Variational Inference (SVI)\n",
    "Consider the graphical model of the observations $\\mathbf{x}$ and latent variable $\\mathbf{z}=\\{\\theta, z\\}$ in figure 1 where $\\theta$ is the global variable and $z = \\{z_1, \\ldots z_n\\}$  is the local (per-data-point) variable such that:\n",
    "\n",
    "![](my_icons/VI.png)\n",
    "\n",
    "$$\n",
    "p(\\mathbf{x},\\mathbf{z}) = p(\\theta|\\alpha)\\prod_{i=1}^N p(x_i|z_i, \\theta)\\cdot p(z_i|\\alpha)\n",
    "$$ \n"
   ]
  },
  {
   "cell_type": "markdown",
   "metadata": {},
   "source": [
    "Similarly the variational parameters are given by $\\lambda = \\{\\gamma, \\phi\\} $ where the variational parameter $\\gamma$ correspond to latent variable  and  $\\phi$ denote set of local variational parameters. The variational distribution $q(\\mathbf{z}\\mid \\phi)$ is given by\n",
    "\n",
    "$$\n",
    "q(\\mathbf{z}\\mid \\phi) = q(\\theta|\\gamma)\\prod_{i=1}^N q(z_i|\\phi_i, \\alpha)\n",
    "$$\n",
    "\n",
    "which  also depend on hyper-parameter $\\alpha$. The ELBO of this graphical model $\\mathcal{L}_{VI}(q) = \\mathbb{E}_q[ \\log p(\\mathbf{x},\\mathbf{z}, \\alpha) -\\log q(\\mathbf{z}, \\gamma)]$ has the following form:\n",
    "\n",
    "$$\n",
    "\\begin{split}\n",
    "\\mathcal{L}_{VI}(q) &= \\mathbb{E}_q[ \\log p(\\theta|\\alpha)- \\log q(\\theta|\\gamma)] \\\\\n",
    "&+ \\sum_{i=1}^{N}\\mathbb{E}_q[\\log p(z_i|\\theta) \n",
    "+ \\log p(x_i|z_i, \\theta)-\\log q(z_i|\\phi_i)]\n",
    "\\end{split}\n",
    "$$\n"
   ]
  },
  {
   "cell_type": "markdown",
   "metadata": {},
   "source": [
    "The equation above could be optimized by CAVI algorithm discussed in previous post which is expensive for large data sets. The CAVI algorithm scales with $N$ as it require to optimize the local variational parameters for each data point before re-estimating the global variational parameters. \n",
    "\n",
    "Unlike CAI, SVI uses stochastic optimization to fit the global variational parameters by repeatedly sub-sample the data to form stochastic estimate of ELBO. In every iteration one randomly selects mini-batches of size $b_{sz}$  to obtain a stochastic estimate of ELBO.\n",
    "\n",
    "$$\n",
    "\\begin{split}\n",
    "\\mathcal{L}_{VI}(q) &= \\mathbb{E}_q[ \\log p(\\theta|\\alpha)- \\log q(\\theta|\\gamma)] \\\\\n",
    "&+ \\frac{N}{b_{sz}}\\sum_{s=1}^{b_{sz}}\\mathbb{E}_q[\\log p(z_{i_s}|\\theta) + \\log p(x_{i_s}|z_{i_s}, \\theta)-\\log q(z_{i_s}|\\phi_{i_s})]\n",
    "\\end{split}\n",
    "$$\n",
    "\n",
    "SVI algorithms follow noisy estimates of the gradient with a decreasing step size which is often  cheaper to compute than the true gradient. Following such noisy estimates allows SVI to escape  shallow local optima of complex objective functions. "
   ]
  },
  {
   "cell_type": "markdown",
   "metadata": {},
   "source": [
    "### Natural Gradient for SVI\n",
    "\n",
    "To solve the optimization problem standard gradient-based methods such as SGD, Adam or Adagrad can be used. However, for SVI these gradient based methods cause slow convergence or converge to inferior local models. This is because, gradient based methods use the following update  \n",
    "\n",
    "$$\n",
    "\\theta^{t+1}=\\theta^t + \\alpha \\frac{\\partial \\mathcal{L}_{VI}(q)}{\\partial \\theta} \n",
    "$$\n",
    "\n",
    "where \n",
    "\n",
    "$$\n",
    "\\frac{\\partial \\mathcal{L}_{VI}(q)}{\\partial \\theta} =\\frac{\\partial \\mathcal{L}_{VI}(q)}{\\partial \\theta_1}, \\ldots \\frac{\\partial \\mathcal{L}_{VI}(q)}{\\partial \\theta_k}\n",
    "$$ \n",
    "\n",
    "is the the gradient vector which point in the direction where the function increases most quickly while the changes in the function are measured with respect to euclidean distance. As the result, if the euclidean distance between the variational parameter being optimized is not good measure of variation in objective function then gradient descent will move suboptimal through the parameter value. \n",
    "\n",
    "Consider the following  two set of gausian distributions $$\\{d_{(1)}=\\mathcal{N}(-2, 3), d_{(2)}=\\mathcal{N}(2, 3)\\}$$ and $$\\{d_{(1)}=\\mathcal{N}(-2, 1), d_{(2)}=\\mathcal{N}(2, 1)\\}$$. "
   ]
  },
  {
   "cell_type": "markdown",
   "metadata": {},
   "source": [
    "The euclidean distance between the two distributions $d_{}=\\sqrt{(\\mu_1-\\mu_2)^2+ (\\sigma^2_1-\\sigma^2_2)^2}=4$ It clear that, considering only the euclidean distance the two images are the same. However, when we consider the shape of the distribution, the distance is different in the first and second image. In the first image, the KL-divergence should be lower as there is more overlap between between the two distribution unlike the second image where their support barely overlap. The reason for this difference is that probability distribution do not naturally fit in euclidean space rather it fit on a statistical manifold also called [Riemannian manifold](https://en.wikipedia.org/wiki/Riemannian_manifold). \n",
    "\n",
    "Statistical manifold give a natural way of measuring distances between distribution that euclidean distance use in SGD. A common Riemannian metric for statistical manifold is the [fisher information matrix](https://wiseodd.github.io/techblog/2018/03/11/fisher-information/) defined by \n",
    "\n",
    "$$\n",
    "F_{\\lambda} = \\mathbb{E}_{p(x;\\lambda)}[\\nabla \\log p(x;\\lambda) (\\nabla \\log p(x;\\theta))^T ]\n",
    "$$"
   ]
  },
  {
   "cell_type": "markdown",
   "metadata": {},
   "source": [
    "It can be showed that the fisher information matrix $F_{\\lambda}$ is  the second derivative of the KL divergence between two distributions.\n",
    "\n",
    "$$\n",
    "F_{\\theta} = \\nabla^2_{\\theta} KL(q(x;\\lambda)||p(x;\\theta))\n",
    "$$\n",
    "\n",
    "Thus for SVI, the standard gradients descent techniques can be replaced  with the natural gradient as follows:\n",
    "\n",
    "$$\n",
    "        \\tilde{\\nabla_{q}} \\mathcal{L}(q) = F^{-1} \\nabla{q}\\mathcal{L}_{VI}(q)\n",
    "$$\n",
    "\n",
    "The update procedure for natural gradient can be summarized as follows:\n",
    "\n",
    "1. Compute the loss $\\mathcal{L}_{VI}(q)$\n",
    "2. Compute the gradient of the loss $\\nabla{q}\\mathcal{L}_{VI}(q)$\n",
    "3. Compute the Fisher Information Matrix F.\n",
    "4. Compute the natural gradient $\\tilde{\\nabla_{q}} \\mathcal{L}_{VI}(q)$\n",
    "5. Update the parameter $q^{t+1} =q^t - \\alpha \\tilde{\\nabla_{\\theta}}\\mathcal{L}_{VI}(q)$"
   ]
  },
  {
   "cell_type": "markdown",
   "metadata": {},
   "source": [
    "Using natural gradient instead of standard gradients simplify SVI gradient update. However the same conditions for convergence as standard SDG have to be fulfilled. First, the mini-batch indices must be drawn uniformly at random size where the size $b_{sz}$ of the mini-batch must satisfies $1\\leq b_{sz} \\leq N$ The learning rate $\\alpha$ needs to decrease with iterations $t$ satisying the [Robbins Monro conditions](https://en.wikipedia.org/wiki/Stochastic_approximation) $\\sum_{t=1}^{\\infty} \\alpha_t =\\infty$ and $\\sum_{t=1}^{\\infty} \\alpha_t^2 <\\infty$ This guarantee that every point in the parameter space can be reached while the gradient noise decreases quickly enough to ensure convergence.\n",
    "\n",
    "The next section presents two important tricks namely re-parametrization trick and amortized inference that are useful when using SVI in solving problems.\n"
   ]
  },
  {
   "cell_type": "markdown",
   "metadata": {},
   "source": [
    "## Re-parametrization trick\n",
    "\n",
    "Consider the graphical model presented in figure 1, where gradient based stochastic optimization is used to learn the variational parameter $\\phi$. For example; for Gaussian distribution  $q_{\\phi}(z|x)=\\mathcal{N}(\\mu_{\\phi}(x), \\Sigma_{\\phi}(x))$\n",
    "\n",
    "To maximize the likelihood of the data, we need to back propagate the loss to the parameter $\\phi$ across the distribution of $z$ or across sample $z\\sim q_\\phi(z \\mid x) $ However, it is difficulty to back-propagate through random variable. To address this problem, the re-parametrization trick is used.\n",
    "\n",
    "First let consider the [Law of the Unconscious Statistician (LOTUS)](https://en.wikipedia.org/wiki/Law_of_the_unconscious_statistician), that is used to calculate the expected value of a function $g(\\epsilon)$ of a random variable $\\epsilon$ when only the probability distribution $p(\\epsilon)$ of $\\epsilon$ is known. The Law state that: \n",
    ">To compute the expectation of a measurable function $g(.)$ of a random variable $\\epsilon$, we have to integrate $g(\\epsilon)$ with respect to the distribution function of $\\epsilon$, that is:\n",
    "\n",
    "$$\n",
    "\\mathbb{E}(g(\\epsilon)) = \\int g(\\epsilon)dF_{\\epsilon}(\\epsilon)\n",
    "$$\n",
    "\n",
    "In other words, to compute the expectation of $z =g(\\epsilon)$ we only need to know $g(.)$ and the distribution of $\\epsilon$. We do not need to explicitly know the distribution of $z$. Thus the above equation can be expression in the convenient alternative notation:\n",
    "\n",
    "$$\n",
    "\\mathbb{E}_{\\epsilon \\sim p(\\epsilon)}(g(\\epsilon)) = \\mathbb{E}_{z \\sim p(z)} (z)\n",
    "$$\n",
    "\n",
    "Therefore the reparameteriztaion trick states that:  \n",
    ">A random variable $z$ with distribution $q_{\\phi}(z, \\phi)$ which is independent to $\\phi$ can be expressed as transformation of random variable $\\epsilon \\sim p(\\epsilon)$ that come from noise distribution such as uniform or gaussian such that $z = g(\\phi, \\epsilon)$\n",
    "\n",
    "For instance for Gaussian variable $z$ in the above example \n",
    "\n",
    "$$\n",
    "z = \\mu(\\phi) + \\sigma^2(\\phi)\\cdot \\epsilon\n",
    "$$\n",
    "\n",
    "where $\\epsilon \\sim \\mathcal{N}(0, 1)$. Since $p(\\epsilon)$ is independent of the parameter of $q_{\\phi}(z, \\phi)$, we can apply the change of variables in integral theory to compute any expectation over $z$ or any expectation over  $\\phi$. The SDG estimator can therefore be estimated by pulling the gradient into expectations and approximating it by samples from the noise \n",
    "distribution such that  for any measurable function $f_{\\theta}(.)$:\n",
    "\n",
    "$$\n",
    "\\Delta_{\\phi}\\mathbb{E}_{z\\sim p_{\\phi}(z)} = \\frac{1}{M}\\sum_{i=1}^M \\Delta f(g(\\phi, \\epsilon_i)) \n",
    "$$\n",
    "\n",
    "where $\\epsilon_i\\sim p(\\epsilon)$ , $f_{\\theta}(.)$ must be differentiable w.r.t  its input $z$ and $g(\\phi, \\epsilon_i)$ must exist and be differentiable with respect to $\\phi$."
   ]
  },
  {
   "cell_type": "markdown",
   "metadata": {},
   "source": [
    "## Amortized Variational Inference\n",
    "\n",
    "Consider the graphical model presented in figure 1 where ecah data point $x_i$ is governed by its latent variable $z_i$ with variational parameter $phi_i$ such that \n",
    "\n",
    "$$\n",
    "q(\\mathbf{z}\\mid \\phi) = q(\\theta|\\gamma)\\prod_{i=1}^N q(z_i|\\phi_i, \\alpha)\n",
    "$$\n",
    "\n",
    "Using traditional SVI make it necessary to optimize $\\phi_i$ for each data point $x_i$. As the results the number parameters to be optimized will grows with the number of observations $x$. This is not ideal for larger datasets. Apart from that, it requires one to re-run the optimization procedure in case of new observation or when we have to perform inference. To address these problem amortized VI introduce a parametrized function that maps from observation space to the parameter of the approximate posterior distribution. \n",
    "\n",
    "Amortized VI try to learn from past inference/pre-computation so that future inferences run faster. Instead of approximating separate variables for each data point $x_i$, amortized VI assume that the local variational parameter $\\phi$ can be predicted by a parametrized function $f_{\\phi}(.)$ of data whose parameters are shared across all data points. Thus instead of introducing local variational parameter, we learn a single parametric function and work with a variational distribution that has the form \n",
    "\n",
    "$$\n",
    "q(\\mathbf{z}\\mid \\phi) = q(\\theta|\\gamma)\\prod_{i=1}^N q(z_i|f_{\\phi}(.))\n",
    "$$\n",
    "\n",
    "where $f_{\\phi}(.)$ is the deep neural net function of $z$\n",
    "\n",
    "\n",
    "Deep neural network used in this context are called [inference networks](). Therefore amortized inference with inference networks combines probabilistic modelling with representation power of deep learning. Using amortized VI instead of traditional VI, has two important advantages. First the number of variational parameters remain constant with respect to the data size. We only need to specify the parameter of the neural networks which is independent to the number of observations. Second, for new observation or during inference all we need to do is to call the inference network. As the result, we can invest time upfront optimizing the inference network and during inference we use the trained network for fast inference.\n",
    "\n",
    "\n"
   ]
  },
  {
   "cell_type": "markdown",
   "metadata": {},
   "source": [
    "## Example"
   ]
  },
  {
   "cell_type": "markdown",
   "metadata": {},
   "source": [
    "Consider a binary regression problem where we are intrested on predicting whether or not a customer will subscribe a term deposit after the marketing campaign the bank performed."
   ]
  },
  {
   "cell_type": "code",
   "execution_count": 27,
   "metadata": {},
   "outputs": [],
   "source": [
    "import pyro\n",
    "import pyro.distributions as dist\n",
    "import pyro.optim as optim\n",
    "import torch\n",
    "import torch.nn.functional as F\n",
    "from pyro.infer import Trace_ELBO, SVI\n",
    "import pandas as pd\n",
    "import numpy as np\n",
    "import matplotlib.pyplot as plt\n",
    "from sklearn.preprocessing import StandardScaler, OneHotEncoder, LabelEncoder, LabelBinarizer\n",
    "from sklearn.model_selection import StratifiedShuffleSplit\n",
    "%matplotlib inline\n",
    "import warnings\n",
    "warnings.filterwarnings('ignore')"
   ]
  },
  {
   "cell_type": "code",
   "execution_count": 28,
   "metadata": {},
   "outputs": [],
   "source": [
    "def label_binarize(df):\n",
    "    bin_enc = LabelBinarizer()\n",
    "    return bin_enc.fit_transform(df)\n",
    "\n",
    "def standardize(df):\n",
    "    std_enc = StandardScaler()\n",
    "    return std_enc.fit_transform(df)"
   ]
  },
  {
   "cell_type": "markdown",
   "metadata": {},
   "source": [
    "### Load data"
   ]
  },
  {
   "cell_type": "code",
   "execution_count": 29,
   "metadata": {},
   "outputs": [],
   "source": [
    "data = pd.read_csv(\"data/bank.csv\")\n",
    "\n",
    "## Encode target variable\n",
    "LE=LabelEncoder()\n",
    "target=LE.fit_transform(data.deposit.values)\n",
    "features = data.drop(columns=\"deposit\")\n",
    "\n",
    "# Separate both dataframes into \n",
    "numeric_data = data.select_dtypes(exclude=\"object\")\n",
    "categ_data  = data.drop(columns=numeric_data)\n",
    "#categ_data = pd.get_dummies(categ_data.values)"
   ]
  },
  {
   "cell_type": "code",
   "execution_count": 30,
   "metadata": {},
   "outputs": [],
   "source": [
    "for column in categ_data.columns:\n",
    "    categ_data[column] = label_binarize(categ_data[column].values)\n",
    "    \n",
    "columns_int = [\"campaign\", \"pdays\", \"previous\"]\n",
    "for i, column  in enumerate(columns_int):\n",
    "    numeric_data[column] = label_binarize(numeric_data[column].values)\n",
    "    \n",
    "    \n",
    "numeric_column = [\"age\", \"balance\", \"day\", \"duration\"]\n",
    "for i, column  in enumerate(numeric_column):\n",
    "    numeric_data[column] = standardize(numeric_data[[column]].values)\n",
    "    \n"
   ]
  },
  {
   "cell_type": "code",
   "execution_count": 31,
   "metadata": {},
   "outputs": [],
   "source": [
    "features = pd.concat([numeric_data, categ_data], 1)\n",
    "features = torch.tensor(features.values).float()\n",
    "target   = torch.tensor(target).long()"
   ]
  },
  {
   "cell_type": "code",
   "execution_count": 32,
   "metadata": {},
   "outputs": [],
   "source": [
    "sss = StratifiedShuffleSplit(n_splits=10, test_size=0.15, random_state=0)\n",
    "train, test = next(sss.split(features.numpy(), target.numpy()))"
   ]
  },
  {
   "cell_type": "code",
   "execution_count": 33,
   "metadata": {},
   "outputs": [],
   "source": [
    "X_train, X_test = features[train], features[test]\n",
    "y_train, y_test = target[train], target[test]"
   ]
  },
  {
   "cell_type": "markdown",
   "metadata": {},
   "source": [
    "## Model"
   ]
  },
  {
   "cell_type": "code",
   "execution_count": 36,
   "metadata": {},
   "outputs": [],
   "source": [
    "from pyro.nn import PyroSample\n",
    "from torch import nn\n",
    "from pyro.nn import PyroModule\n",
    "assert issubclass(PyroModule[nn.Linear], nn.Linear)\n",
    "assert issubclass(PyroModule[nn.Linear], PyroModule)\n",
    "\n",
    "class BayesianRegression(PyroModule):\n",
    "    def __init__(self, in_features, out_features=1):\n",
    "        super().__init__()\n",
    "        self.linear = PyroModule[nn.Linear](in_features, out_features)\n",
    "        self.linear.weight = PyroSample(dist.Normal(0., 1.).expand([out_features, in_features]).to_event(2))\n",
    "        self.linear.bias = PyroSample(dist.Normal(0., 10.).expand([out_features]).to_event(1))\n",
    "\n",
    "    def forward(self, x, y=None):\n",
    "        sigma = pyro.sample(\"sigma\", dist.Uniform(0., 10.))\n",
    "        mean = torch.sigmoid(self.linear(x).squeeze(-1))\n",
    "        with pyro.plate(\"data\", x.shape[0]):\n",
    "            obs = pyro.sample(\"obs\", dist.Bernoulli(mean), obs=y)\n",
    "        return mean"
   ]
  },
  {
   "cell_type": "markdown",
   "metadata": {},
   "source": [
    "### Guide"
   ]
  },
  {
   "cell_type": "code",
   "execution_count": 38,
   "metadata": {},
   "outputs": [],
   "source": [
    "from pyro.infer.autoguide import AutoDiagonalNormal\n",
    "\n",
    "model = BayesianRegression(features.size(-1), 1)\n",
    "guide = AutoDiagonalNormal(model)\n"
   ]
  },
  {
   "cell_type": "code",
   "execution_count": 39,
   "metadata": {},
   "outputs": [],
   "source": [
    "from pyro.infer import SVI, Trace_ELBO\n",
    "\n",
    "\n",
    "adam = pyro.optim.Adam({\"lr\": 0.03})\n",
    "svi = SVI(model, guide, adam, loss=Trace_ELBO())"
   ]
  },
  {
   "cell_type": "code",
   "execution_count": 42,
   "metadata": {},
   "outputs": [
    {
     "name": "stdout",
     "output_type": "stream",
     "text": [
      "[iteration 0001] loss: 0.0208\n",
      "[iteration 0101] loss: 0.0188\n",
      "[iteration 0201] loss: 0.0167\n",
      "[iteration 0301] loss: 0.0160\n",
      "[iteration 0401] loss: 0.0151\n",
      "[iteration 0501] loss: 0.0146\n",
      "[iteration 0601] loss: 0.0133\n",
      "[iteration 0701] loss: 0.0136\n",
      "[iteration 0801] loss: 0.0135\n",
      "[iteration 0901] loss: 0.0135\n",
      "[iteration 1001] loss: 0.0129\n",
      "[iteration 1101] loss: 0.0137\n",
      "[iteration 1201] loss: 0.0124\n",
      "[iteration 1301] loss: 0.0123\n",
      "[iteration 1401] loss: 0.0125\n",
      "[iteration 1501] loss: 0.0132\n",
      "[iteration 1601] loss: 0.0122\n",
      "[iteration 1701] loss: 0.0120\n",
      "[iteration 1801] loss: 0.0120\n",
      "[iteration 1901] loss: 0.0131\n",
      "[iteration 2001] loss: 0.0121\n",
      "[iteration 2101] loss: 0.0120\n",
      "[iteration 2201] loss: 0.0119\n",
      "[iteration 2301] loss: 0.0118\n",
      "[iteration 2401] loss: 0.0118\n",
      "[iteration 2501] loss: 0.0118\n",
      "[iteration 2601] loss: 0.0114\n",
      "[iteration 2701] loss: 0.0118\n",
      "[iteration 2801] loss: 0.0117\n",
      "[iteration 2901] loss: 0.0119\n",
      "[iteration 3001] loss: 0.0122\n",
      "[iteration 3101] loss: 0.0119\n",
      "[iteration 3201] loss: 0.0118\n",
      "[iteration 3301] loss: 0.0122\n",
      "[iteration 3401] loss: 0.0121\n",
      "[iteration 3501] loss: 0.0117\n",
      "[iteration 3601] loss: 0.0119\n",
      "[iteration 3701] loss: 0.0118\n",
      "[iteration 3801] loss: 0.0120\n",
      "[iteration 3901] loss: 0.0117\n",
      "[iteration 4001] loss: 0.0119\n",
      "[iteration 4101] loss: 0.0129\n",
      "[iteration 4201] loss: 0.0117\n",
      "[iteration 4301] loss: 0.0118\n",
      "[iteration 4401] loss: 0.0117\n",
      "[iteration 4501] loss: 0.0119\n",
      "[iteration 4601] loss: 0.0118\n",
      "[iteration 4701] loss: 0.0122\n",
      "[iteration 4801] loss: 0.0122\n",
      "[iteration 4901] loss: 0.0120\n"
     ]
    }
   ],
   "source": [
    "for j in range(5000):\n",
    "    # calculate the loss and take a gradient step\n",
    "    loss = svi.step(X_train, y_train.float())\n",
    "    if j % 100 == 0:\n",
    "        print(\"[iteration %04d] loss: %.4f\" % (j + 1, loss / len(X_train)))"
   ]
  },
  {
   "cell_type": "code",
   "execution_count": 43,
   "metadata": {},
   "outputs": [
    {
     "name": "stdout",
     "output_type": "stream",
     "text": [
      "w_loc tensor([-0.0071,  0.0229, -0.0480,  0.8757,  0.0749, -0.9454, -0.9454,  0.0240,\n",
      "        -0.1021, -0.3675, -0.1923, -0.9378, -0.4416, -0.0203,  0.2147, -1.3860,\n",
      "         6.3369], requires_grad=True)\n",
      "w_scale tensor([-1.9725, -2.2263, -1.8859, -1.4443, -1.4062, -1.3978, -1.3952, -1.3166,\n",
      "        -1.2706, -1.2814, -0.7051, -1.3490, -1.2376, -1.4575, -1.2055, -1.3631,\n",
      "        -0.8033], requires_grad=True)\n",
      "b_loc tensor(-0.9499, requires_grad=True)\n",
      "b_scale tensor(-1.4293, requires_grad=True)\n",
      "sigma_loc tensor(0.4712, requires_grad=True)\n",
      "sigma_scale tensor(1.0128, requires_grad=True)\n",
      "AutoDiagonalNormal.loc Parameter containing:\n",
      "tensor([ 2.0622e-01, -3.7485e-03, -3.0043e-02, -8.0583e-02,  6.4904e-01,\n",
      "         1.8374e-01, -3.6323e-01, -3.5512e-01, -2.5773e-02,  5.6965e-02,\n",
      "        -1.7738e-01,  4.0707e-02, -5.3365e-01, -2.6170e-01,  3.2216e-01,\n",
      "         4.4906e-02, -2.5154e-01,  1.2037e+01, -5.6873e+00])\n",
      "AutoDiagonalNormal.scale tensor([1.8662, 0.1736, 0.1103, 0.1989, 0.2169, 0.2756, 0.2084, 0.2840, 0.4834,\n",
      "        0.5076, 0.3287, 0.8293, 0.2835, 0.3674, 0.2236, 0.5573, 0.4754, 0.2786,\n",
      "        0.2006])\n"
     ]
    }
   ],
   "source": [
    "guide.requires_grad_(False)\n",
    "\n",
    "for name, value in pyro.get_param_store().items():\n",
    "    print(name, pyro.param(name))"
   ]
  },
  {
   "cell_type": "code",
   "execution_count": 44,
   "metadata": {},
   "outputs": [
    {
     "data": {
      "text/plain": [
       "{'sigma': [tensor(2.5875), tensor(5.5137), tensor(8.1229)],\n",
       " 'linear.weight': [tensor([[-1.2086e-01, -1.0444e-01, -2.1471e-01,  5.0276e-01, -2.1774e-03,\n",
       "           -5.0379e-01, -5.4666e-01, -3.5181e-01, -2.8543e-01, -3.9910e-01,\n",
       "           -5.1865e-01, -7.2488e-01, -5.0951e-01,  1.7136e-01, -3.3100e-01,\n",
       "           -5.7217e-01,  1.1849e+01]]),\n",
       "  tensor([[-3.7485e-03, -3.0043e-02, -8.0583e-02,  6.4904e-01,  1.8374e-01,\n",
       "           -3.6323e-01, -3.5512e-01, -2.5773e-02,  5.6965e-02, -1.7738e-01,\n",
       "            4.0707e-02, -5.3365e-01, -2.6170e-01,  3.2216e-01,  4.4906e-02,\n",
       "           -2.5154e-01,  1.2037e+01]]),\n",
       "  tensor([[ 0.1134,  0.0444,  0.0535,  0.7953,  0.3697, -0.2227, -0.1636,  0.3003,\n",
       "            0.3994,  0.0443,  0.6001, -0.3424, -0.0139,  0.4730,  0.4208,  0.0691,\n",
       "           12.2247]])],\n",
       " 'linear.bias': [tensor([-5.8226]), tensor([-5.6873]), tensor([-5.5520])]}"
      ]
     },
     "execution_count": 44,
     "metadata": {},
     "output_type": "execute_result"
    }
   ],
   "source": [
    "guide.quantiles([0.25, 0.5, 0.75])"
   ]
  },
  {
   "cell_type": "code",
   "execution_count": 46,
   "metadata": {},
   "outputs": [],
   "source": [
    "from pyro.infer import Predictive\n",
    "\n",
    "\n",
    "def summary(samples):\n",
    "    site_stats = {}\n",
    "    for k, v in samples.items():\n",
    "        site_stats[k] = {\n",
    "            \"mean\": torch.mean(v, 0),\n",
    "            \"std\": torch.std(v, 0),\n",
    "            \"5%\": v.kthvalue(int(len(v) * 0.05), dim=0)[0],\n",
    "            \"95%\": v.kthvalue(int(len(v) * 0.95), dim=0)[0],\n",
    "        }\n",
    "    return site_stats\n",
    "\n",
    "predictive = Predictive(model, guide=guide, num_samples=800,\n",
    "                        return_sites=(\"linear.weight\", \"obs\", \"_RETURN\"))\n",
    "samples = predictive(X_test)\n",
    "pred_summary = summary(samples)"
   ]
  },
  {
   "cell_type": "code",
   "execution_count": 48,
   "metadata": {},
   "outputs": [],
   "source": [
    "mu = pred_summary[\"_RETURN\"]\n",
    "y = pred_summary[\"obs\"]\n",
    "predictions = pd.DataFrame({\n",
    "    \"age\": X_test[:, 0],\n",
    "    \"rugged\": X_test[:, 1],\n",
    "    \"mu_mean\": mu[\"mean\"],\n",
    "    \"mu_perc_5\": mu[\"5%\"],\n",
    "    \"mu_perc_95\": mu[\"95%\"],\n",
    "    \"y_mean\": y[\"mean\"],\n",
    "    \"y_perc_5\": y[\"5%\"],\n",
    "    \"y_perc_95\": y[\"95%\"],\n",
    "    \"true_gdp\": y_test,\n",
    "})"
   ]
  },
  {
   "cell_type": "code",
   "execution_count": 55,
   "metadata": {},
   "outputs": [
    {
     "data": {
      "text/plain": [
       "tensor([0.0000, 0.9962, 0.0012,  ..., 0.9987, 0.9950, 0.9975])"
      ]
     },
     "execution_count": 55,
     "metadata": {},
     "output_type": "execute_result"
    }
   ],
   "source": [
    "y['mean']"
   ]
  },
  {
   "cell_type": "code",
   "execution_count": 58,
   "metadata": {},
   "outputs": [
    {
     "data": {
      "text/plain": [
       "[<matplotlib.lines.Line2D at 0x1a28bc04d0>]"
      ]
     },
     "execution_count": 58,
     "metadata": {},
     "output_type": "execute_result"
    },
    {
     "data": {
      "image/png": "[encoded data removed]",
      "text/plain": [
       "<Figure size 432x288 with 1 Axes>"
      ]
     },
     "metadata": {
      "needs_background": "light"
     },
     "output_type": "display_data"
    }
   ],
   "source": [
    "plt.plot(y['mean'], y_test)"
   ]
  },
  {
   "cell_type": "code",
   "execution_count": null,
   "metadata": {},
   "outputs": [],
   "source": [
    "## Reference\n",
    "\n",
    "1. [[Cheng Zhang,(2017)]](https://arxiv.org/abs/1711.05597):\n",
    "Advances in Variational Inference.\n",
    "2. [[Daniel Ritchie,(2016)]](https://arxiv.org/abs/1610.05735):Deep Amortized Inference for Probabilistic Programs.\n",
    "3. [[Andrew Miller,(2016)]](https://arxiv.org/abs/1610.05735):Natural Gradients and Stochastic Variational Inference.\n",
    "4.  [Shakir Mohamed](https://www.shakirm.com/papers/VITutorial.pdf):Variational Inference  for Machine Learning. \n",
    "5.  [DS3 workshop](https://emtiyaz.github.io/teaching/ds3_2018/ds3.html):Approximate Bayesian Inference: Old and New.\n",
    "6.  [Variational Inference and Deep Generative Models](https://github.com/philschulz/VITutorial):Variational Inference for NLP audiences\n"
   ]
  }
 ],
 "metadata": {
  "kernelspec": {
   "display_name": "Python 3",
   "language": "python",
   "name": "python3"
  },
  "language_info": {
   "codemirror_mode": {
    "name": "ipython",
    "version": 3
   },
   "file_extension": ".py",
   "mimetype": "text/x-python",
   "name": "python",
   "nbconvert_exporter": "python",
   "pygments_lexer": "ipython3",
   "version": "3.7.4"
  },
  "latex_envs": {
   "LaTeX_envs_menu_present": true,
   "autoclose": false,
   "autocomplete": true,
   "bibliofile": "biblio.bib",
   "cite_by": "apalike",
   "current_citInitial": 1,
   "eqLabelWithNumbers": true,
   "eqNumInitial": 1,
   "hotkeys": {
    "equation": "Ctrl-E",
    "itemize": "Ctrl-I"
   },
   "labels_anchors": false,
   "latex_user_defs": false,
   "report_style_numbering": false,
   "user_envs_cfg": false
  }
 },
 "nbformat": 4,
 "nbformat_minor": 4
}
