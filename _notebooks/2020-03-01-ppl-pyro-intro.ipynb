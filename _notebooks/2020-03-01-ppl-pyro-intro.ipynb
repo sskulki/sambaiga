{
 "cells": [
  {
   "cell_type": "markdown",
   "metadata": {},
   "source": [
    "# Probabilistic Programming with Pyro\n",
    "> A tutorial of how to use Pyro for probabilistic models.\n",
    "\n",
    "- toc: true \n",
    "- badges: true\n",
    "- comments: true\n",
    "- categories: [PPL, Pyro, Statistical Inference]\n",
    "- image: images/ppl-pyro-intro.png"
   ]
  },
  {
   "cell_type": "markdown",
   "metadata": {},
   "source": [
    "##  Intro to Pyro\n",
    "\n",
    "[Pyro](http://pyro.ai/) is a universal probabilistic programming language (PPL) written in Python and supported by PyTorch on the backend. It enables flexible and expressive deep probabilistic modeling, unifying the best of modern deep learning and Bayesian modeling.\n",
    "\n",
    "### Models and Probability distributions\n",
    "**Models** are the basic unit of probabilistic programs in pyro, they represent simplified or abstract descriptions of a process by which data are generated. Models in pyro are expressed as *stochastic functions* which implies that models can be composed, reused, imported, and serialized just like regular Python callables. **Probability distributions** (pimitive stochastic functions) are important class of models (stochastic functions) used explicitly to compute the probability of the outputs given the inputs.  Pyro uses [PyTorch’s distribution library](https://pytorch.org/docs/master/distributions.html) which contains parameterizable probability distributions and sampling functions. This allows the construction of stochastic computation graphs and stochastic gradient estimators for optimization. Each probability distributions are equipped with several  methods such as:\n",
    "\n",
    "* **prob()**: $\\log p(\\mathbf{x} \\mid \\theta ^{*})$\n",
    "* **mean**: $\\mathbb{E}_{p(\\mathbf{x} \\mid \\theta ^{*})}[\\mathbf{x}]$\n",
    "* **sample**: $\\mathbf{x}^{*} \\sim  {p(\\mathbf{x} \\mid \\theta ^{*})}$\n",
    "\n",
    "\n",
    "You can also create custom distributions using [transforms](https://pytorch.org/docs/master/distributions.html#module-torch.distributions.transforms).\n",
    "\n",
    "\n",
    "**Example 1**: Let define the unit normal distribution $\\mathcal{N}(0,1)$, draw  sample $x$ and  compute the log probability according to the distribution."
   ]
  },
  {
   "cell_type": "code",
   "execution_count": 1,
   "metadata": {},
   "outputs": [],
   "source": [
    "import torch\n",
    "import pyro\n",
    "import pyro.distributions as dist\n",
    "from torch.distributions import constraints\n",
    "import pandas as pd\n",
    "import numpy as np\n",
    "import matplotlib.pyplot as plt\n",
    "import seaborn as sns\n",
    "pyro.set_rng_seed(101)\n",
    "torch.manual_seed(101)\n",
    "torch.set_printoptions(precision=3)\n",
    "%matplotlib inline"
   ]
  },
  {
   "cell_type": "code",
   "execution_count": 2,
   "metadata": {},
   "outputs": [
    {
     "name": "stdout",
     "output_type": "stream",
     "text": [
      "sample -1.3905061483383179\n",
      "prob 0.15172401070594788\n"
     ]
    }
   ],
   "source": [
    "mu = 0  \n",
    "sigma = 1 \n",
    "normal=dist.Normal(mu, sigma) \n",
    "x = normal.rsample() # draw a sample from N(1,1)\n",
    "print(\"sample\", x.item())\n",
    "#To compute the log probability according to the distribution\n",
    "print(\"prob\", torch.exp(normal.log_prob(x)).item()) # score the sample from N(1,1)"
   ]
  },
  {
   "cell_type": "markdown",
   "metadata": {},
   "source": [
    "### Sample and Param statements\n",
    "Pyro simplifies the process of sampling from distributions with the use of  **pyro.sample** statement. The **pyro.sample** statement  call stochastic functions or models with a *unique name* as identifier. Pyro’s backend uses these names to uniquely identify sample statements and change their behavior at runtime depending on how the enclosing stochastic function is being used. Using **pyro.sample** statement, Pyro can implement  various manipulations that underlie inference algorithms.\n",
    "\n",
    "```python\n",
    "x = pyro.sample(\"name\", fn, obs)\n",
    "\n",
    "\"\"\"\n",
    "name – name of sample\n",
    "fn – distribution class or function\n",
    "obs – observed datum (optional; should only be used in context of inference) optionally specified in kwargs\n",
    "\"\"\"\n",
    "```\n",
    "**Example 2**: Let sample from previous normal distribution created in example 1."
   ]
  },
  {
   "cell_type": "code",
   "execution_count": 3,
   "metadata": {},
   "outputs": [
    {
     "name": "stdout",
     "output_type": "stream",
     "text": [
      "tensor(-0.815)\n"
     ]
    }
   ],
   "source": [
    "mu = 0  \n",
    "sigma = 1 \n",
    "x = pyro.sample(\"my_sample\", dist.Normal(mu, sigma))\n",
    "print(x)"
   ]
  },
  {
   "cell_type": "markdown",
   "metadata": {},
   "source": [
    "The above code generate a random value and records it in the Pyro runtime."
   ]
  },
  {
   "cell_type": "code",
   "execution_count": 4,
   "metadata": {},
   "outputs": [
    {
     "name": "stdout",
     "output_type": "stream",
     "text": [
      "2\n"
     ]
    },
    {
     "name": "stderr",
     "output_type": "stream",
     "text": [
      "/opt/miniconda3/lib/python3.7/site-packages/pyro/primitives.py:86: RuntimeWarning: trying to observe a value outside of inference at my_sample\n",
      "  RuntimeWarning)\n"
     ]
    }
   ],
   "source": [
    "data=2\n",
    "x = pyro.sample(\"my_sample\", dist.Normal(mu, sigma), obs=data)\n",
    "print(x)"
   ]
  },
  {
   "cell_type": "markdown",
   "metadata": {},
   "source": [
    "The above code conditions a stochatsic function on observed data. This should run on inference."
   ]
  },
  {
   "cell_type": "markdown",
   "metadata": {},
   "source": [
    "Pyro use  **pyro.param** statement to  saves the variable as a parameter in the param store. To interact with the param store. The **pyro.param** statement is used by pyro to  declares a learnable parameter.\n"
   ]
  },
  {
   "cell_type": "markdown",
   "metadata": {},
   "source": [
    "```python\n",
    "x = pyro.param(\"name\", init_value, constraints)\n",
    "\n",
    "\"\"\"\n",
    "name – name of param\n",
    "init_value – initial value\n",
    "constraint – torch constraint\n",
    "\"\"\"\n",
    "```\n",
    "**Example 3**: Let create theta parameter"
   ]
  },
  {
   "cell_type": "code",
   "execution_count": 5,
   "metadata": {},
   "outputs": [],
   "source": [
    "theta = pyro.param(\"theta\", torch.tensor(1.0), constraint=dist.constraints.positive)"
   ]
  },
  {
   "cell_type": "markdown",
   "metadata": {},
   "source": [
    "## Simple PPL model\n",
    "\n",
    "Consider the following Poison Regression model\n",
    "\\begin{align}\n",
    "y(t) &\\sim \\lambda \\exp(-\\lambda)\\\\\n",
    "\\lambda &\\sim \\exp(c + m(t))\\\\\n",
    "c &\\sim \\mathcal{N}(1, 1)\\\\\n",
    "m &\\sim \\mathcal{N}(0, 1)\n",
    "\\end{align}\n",
    "\n"
   ]
  },
  {
   "cell_type": "code",
   "execution_count": 6,
   "metadata": {},
   "outputs": [],
   "source": [
    "def model(y):\n",
    "    slope = pyro.sample(\"slope\", dist.Normal(0, 0.1))\n",
    "    intercept = pyro.sample(\"intercept\", dist.Normal(0, 1))\n",
    "    for t in range(len(y)):\n",
    "        rate = torch.exp(intercept + slope * t)\n",
    "        y[t] = pyro.sample(\"count_{}\".format(t), dist.Poisson(rate),\n",
    "                                obs=y[t])\n",
    "    return slope, intercept, y"
   ]
  },
  {
   "cell_type": "markdown",
   "metadata": {},
   "source": [
    "Given a pyro model.\n",
    "We can\n",
    "1. **Generate data from model**\n",
    "2. **Learn parameters of the model from data**\n",
    "3. **Use the model to predict future observation**."
   ]
  },
  {
   "cell_type": "markdown",
   "metadata": {},
   "source": [
    "### Generate data from model \n",
    "Running a Pyro model will generate a sample from the prior.\n",
    "\n"
   ]
  },
  {
   "cell_type": "code",
   "execution_count": 7,
   "metadata": {},
   "outputs": [
    {
     "data": {
      "image/png": "[encoded data removed]",
      "text/plain": [
       "<Figure size 432x288 with 1 Axes>"
      ]
     },
     "metadata": {
      "needs_background": "light"
     },
     "output_type": "display_data"
    }
   ],
   "source": [
    "pyro.set_rng_seed(0)\n",
    "# We pass counts = [None, ..., None] to indicate time duration.\n",
    "true_slope, true_intercept, true_counts = model([None] * 50)\n",
    "fig, ax =  plt.subplots(figsize=(6,4))\n",
    "ax = sns.lineplot(x=np.arange(len(true_counts)),y=[c.item() for c in true_counts])"
   ]
  },
  {
   "cell_type": "markdown",
   "metadata": {},
   "source": [
    "### Learn parameters of the model from data\n",
    "\n",
    "To learn model parameters we pass the model to an inference algorithm and let the algorithm guess what the model is doing based on observed data. Inference algorithms in Pyro us arbitrary stochastic functions as approximate posterior distributions. that s. These functions are  called guide functions or **guides**  and contains **pyro.sample** and **pyro.param** statement. It is a stochastic function that represents a probability distribution over the latent (unobserved) variables. The guide can be arbitrary python code just like the model, but with a few requirements:\n",
    "\n",
    "1. All unobserved sample statements that appear in the model appear in the guide. \n",
    "2. The guide has the same input signature as the model (i.e. takes the same arguments).\n",
    "3. There are no pyro.sample statements with the obs keyword in the guide. These are exclusive to the model.\n",
    "4. There are pyro.param statements, which are exclusive to the guide. These provide differentiation for the inputs to the pay_probs sample in the guide vs. the model.\n",
    "\n",
    "\n",
    "For example if the model contains a random variable *z_1*\n",
    "\n",
    "```python\n",
    "def model():\n",
    "    pyro.sample(\"z_1\", ...)\n",
    "```\n",
    "then the guide needs to have a matching sample statement\n",
    "```python\n",
    "def guide():\n",
    "    pyro.sample(\"z_1\", ...)\n",
    "```"
   ]
  },
  {
   "cell_type": "markdown",
   "metadata": {},
   "source": [
    "Once a guide has been specified, we can then perform learning and inference which is an optimization problem of maximizing the evidence lower bound (ELBO). The ELBO, is a function of both $\\theta$ and $\\phi$, defined as an expectation w.r.t. to samples from the guide:\n",
    "\n",
    "$${\\rm ELBO} \\equiv \\mathbb{E}_{q_{\\phi}({\\bf z})} \\left [\n",
    "\\log p_{\\theta}({\\bf x}, {\\bf z}) - \\log q_{\\phi}({\\bf z})\n",
    "\\right]$$\n",
    "\n",
    "The **SVI** class is unified interface for stochastic variational inference in Pyro. To use this class you need to provide:\n",
    "- the model, \n",
    "- the guide, and an \n",
    "- optimizer which is a wrapper a for a PyTorch optimizer as discusseced in below\n",
    "\n",
    "```python\n",
    "from pyro.infer import SVI, Trace_ELBO\n",
    "svi = SVI(model, guide, optimizer, loss=Trace_ELBO())\n",
    "```\n",
    "\n",
    "The SVI object provides two methods, **step()** and **evaluate_loss()**, \n",
    "- The method step() takes a single gradient step and returns an estimate of the loss (i.e. minus the ELBO). \n",
    "- The method evaluate_loss() returns an estimate of the loss without taking a gradient step.\n",
    "\n",
    "Both of these methods  accept an optional argument: **num_particles**, which denotes the number of samples used to compute the loss  and gradient.\n",
    "\n",
    "The module **pyro.optim** provides support for optimization in Pyro. In particular it provides **PyroOptim**, which is used to wrap PyTorch optimizers and manage optimizers for dynamically generated parameters. **PyroOptim** takes two arguments: \n",
    "- a constructor for PyTorch optimizers *optim_constructor* and \n",
    "- a specification of the optimizer *arguments optim_args*\n",
    "\n",
    "```python\n",
    "from pyro.optim import Adam\n",
    "adam_params = {\"lr\": 0.005, \"betas\": (0.95, 0.999)}\n",
    "optimizer = Adam(adam_params)\n",
    "```"
   ]
  },
  {
   "cell_type": "markdown",
   "metadata": {},
   "source": [
    "Thus to learn model parameters we pass the model to an inference algorithm and let the algorithm guess what the model is doing based on observed data (here true_counts).\n",
    "\n",
    "For the above example we will use Autoguide pyro inference algorithm:\n",
    "- AutoLaplaceApproximation:Laplace approximation (quadratic approximation) approximates the posterior log𝑝(𝑧|𝑥) by a multivariate normal distribution in the unconstrained space.\n",
    "- Autodelta: This implementation of AutoGuide uses Delta distributions to construct a MAP guide over the entire latent space. "
   ]
  },
  {
   "cell_type": "code",
   "execution_count": 100,
   "metadata": {},
   "outputs": [
    {
     "name": "stdout",
     "output_type": "stream",
     "text": [
      "loss = 87295.88946688175\n",
      "loss = 64525.8595520854\n",
      "loss = 80838.8460238576\n",
      "loss = 33014.93229973316\n",
      "loss = 13704.865498423576\n",
      "loss = 6232.828522503376\n",
      "loss = 2017.9879159331322\n",
      "loss = 631.3558134436607\n",
      "loss = 170.10323333740234\n",
      "loss = 198.57187271118164\n",
      "loss = 207.4590385556221\n"
     ]
    }
   ],
   "source": [
    "from pyro.infer.autoguide import AutoDelta\n",
    "from pyro.infer import SVI, Trace_ELBO\n",
    "from pyro.optim import Adam\n",
    "\n",
    "guide = AutoDelta(model)\n",
    "svi = SVI(model, guide, Adam({\"lr\": 0.1}), Trace_ELBO())\n",
    "for i in range(101):\n",
    "    loss = svi.step(true_counts)  # true_counts is passed as argument to model()\n",
    "    if i % 10 == 0:\n",
    "        print(\"loss = {}\".format(loss))"
   ]
  },
  {
   "cell_type": "code",
   "execution_count": 102,
   "metadata": {},
   "outputs": [
    {
     "name": "stdout",
     "output_type": "stream",
     "text": [
      "true_slope = 0.15409961342811584\n",
      "true_intercept = -0.293428897857666\n",
      "guess = {'slope': tensor(0.147, grad_fn=<ExpandBackward>), 'intercept': tensor(-0.054, grad_fn=<ExpandBackward>)}\n"
     ]
    }
   ],
   "source": [
    "print(\"true_slope = {}\".format(true_slope))\n",
    "print(\"true_intercept = {}\".format(true_intercept))\n",
    "guess = guide()\n",
    "print(\"guess = {}\".format(guess))"
   ]
  },
  {
   "cell_type": "markdown",
   "metadata": {},
   "source": [
    "###  Use model to predict future observation\n",
    "\n",
    "A third way to use a Pyro model is to predict new observed data by guiding the model. This uses two of Pyro's effects:\n",
    "\n",
    "- trace records guesses made by the guide, and\n",
    "- replay conditions the model on those guesses, allowing the model to generate conditional samples.\n",
    "\n",
    "\n",
    "**Traces** are directed graphs whose nodes represent primitive calls or input/output, and whose edges represent conditional dependence relationships between those primitive calls. It return a handler that records the inputs and outputs of primitive calls and their dependencies.\n",
    "\n",
    "We can record its execution using trace and use the resulting data structure to compute the log-joint probability of all of the sample sites in the execution or extract all parameters."
   ]
  },
  {
   "cell_type": "code",
   "execution_count": 111,
   "metadata": {},
   "outputs": [
    {
     "name": "stdout",
     "output_type": "stream",
     "text": [
      "{'intercept': {'prob': tensor(0.250), 'value': tensor(-0.966)},\n",
      " 'slope': {'prob': tensor(2.818), 'value': tensor(0.083)}}\n"
     ]
    }
   ],
   "source": [
    "trace = pyro.poutine.trace(model).get_trace([])\n",
    "pprint({\n",
    "    name: {\n",
    "        'value': props['value'],\n",
    "        'prob': props['fn'].log_prob(props['value']).exp()\n",
    "    }\n",
    "    for (name, props) in trace.nodes.items()\n",
    "    if props['type'] == 'sample'\n",
    "})"
   ]
  },
  {
   "cell_type": "code",
   "execution_count": 112,
   "metadata": {},
   "outputs": [
    {
     "name": "stdout",
     "output_type": "stream",
     "text": [
      "tensor(0.705)\n"
     ]
    }
   ],
   "source": [
    "print(trace.log_prob_sum().exp())"
   ]
  },
  {
   "cell_type": "markdown",
   "metadata": {},
   "source": [
    "Here, the trace feature will collect values every time they are sampled with sample and store them with the corresponding string name (that’s why we give each sample a name). With a little cleanup, we can print out the value and probability of each random variable’s value, along with the joint probability of the entire trace."
   ]
  },
  {
   "cell_type": "markdown",
   "metadata": {},
   "source": [
    "**Replay** return a callable that runs the original, reusing the values at sites in trace at those sites in the new trace.  makes sample statements behave as if they had sampled the values at the corresponding sites in the trace"
   ]
  },
  {
   "cell_type": "code",
   "execution_count": 115,
   "metadata": {},
   "outputs": [],
   "source": [
    "from pyro import poutine\n",
    "\n",
    "def forecast(forecast_steps=10):\n",
    "    counts = true_counts + [None] * forecast_steps  # observed data + blanks to fill in\n",
    "    guide_trace = poutine.trace(guide).get_trace(counts)\n",
    "    _, _, counts = poutine.replay(model, guide_trace)(counts)\n",
    "    return counts"
   ]
  },
  {
   "cell_type": "markdown",
   "metadata": {},
   "source": [
    "We can now call forecast() multiple times to generate samples."
   ]
  },
  {
   "cell_type": "code",
   "execution_count": 120,
   "metadata": {},
   "outputs": [
    {
     "data": {
      "image/png": "[encoded data removed]",
      "text/plain": [
       "<Figure size 432x288 with 1 Axes>"
      ]
     },
     "metadata": {
      "needs_background": "light"
     },
     "output_type": "display_data"
    }
   ],
   "source": [
    "for _ in range(1):\n",
    "    full_counts = forecast(10)\n",
    "    forecast_counts = full_counts[len(true_counts):]\n",
    "    plt.plot([c.item() for c in full_counts], \"r\",\n",
    "                label=None if _ else \"forecast\", alpha=0.3)\n",
    "plt.plot([c.item() for c in true_counts], \"k-\", label=\"truth\")\n",
    "plt.legend();"
   ]
  },
  {
   "cell_type": "markdown",
   "metadata": {},
   "source": [
    "### References\n",
    "\n",
    "1. [Pyro-ducomentation]()\n",
    "2. [PPL models for timeseries forecasting](https://github.com/pyro-ppl/sandbox/)"
   ]
  }
 ],
 "metadata": {
  "kernelspec": {
   "display_name": "Python 3",
   "language": "python",
   "name": "python3"
  },
  "language_info": {
   "codemirror_mode": {
    "name": "ipython",
    "version": 3
   },
   "file_extension": ".py",
   "mimetype": "text/x-python",
   "name": "python",
   "nbconvert_exporter": "python",
   "pygments_lexer": "ipython3",
   "version": "3.7.4"
  },
  "latex_envs": {
   "LaTeX_envs_menu_present": true,
   "autoclose": false,
   "autocomplete": true,
   "bibliofile": "biblio.bib",
   "cite_by": "apalike",
   "current_citInitial": 1,
   "eqLabelWithNumbers": true,
   "eqNumInitial": 1,
   "hotkeys": {
    "equation": "Ctrl-E",
    "itemize": "Ctrl-I"
   },
   "labels_anchors": false,
   "latex_user_defs": false,
   "report_style_numbering": false,
   "user_envs_cfg": false
  }
 },
 "nbformat": 4,
 "nbformat_minor": 4
}